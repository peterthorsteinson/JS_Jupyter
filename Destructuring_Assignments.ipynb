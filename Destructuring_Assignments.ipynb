{
 "cells": [
  {
   "cell_type": "markdown",
   "metadata": {},
   "source": [
    "# Destructuring Assignments\n",
    "\n",
    "- Destructuring assignment syntax unpacks values from arrays, or properties from objects, into distinct variables.\n",
    "- Rest parameter syntax accepts an indefinite number of arguments as an array."
   ]
  },
  {
   "cell_type": "code",
   "execution_count": 2,
   "metadata": {},
   "outputs": [
    {
     "name": "stdout",
     "output_type": "stream",
     "text": [
      "10\n",
      "20\n",
      "[ 30, 40, 50 ]\n"
     ]
    }
   ],
   "source": [
    "var a, b, rest;\n",
    "[a, b] = [10, 20];\n",
    "\n",
    "console.log(a);    // output: 10\n",
    "console.log(b);    // output: 20\n",
    "[a, b, ...rest] = [10, 20, 30, 40, 50];\n",
    "console.log(rest); // output: [30,40,50]"
   ]
  },
  {
   "cell_type": "code",
   "execution_count": 3,
   "metadata": {},
   "outputs": [
    {
     "name": "stdout",
     "output_type": "stream",
     "text": [
      "6\n",
      "10\n"
     ]
    }
   ],
   "source": [
    "function sum(...theArgs) {\n",
    "  return theArgs.reduce((previous, current) => {\n",
    "    return previous + current;\n",
    "  });\n",
    "}\n",
    "\n",
    "console.log(sum(1, 2, 3));    // output: 6\n",
    "console.log(sum(1, 2, 3, 4)); // output: 10"
   ]
  },
  {
   "cell_type": "code",
   "execution_count": null,
   "metadata": {},
   "outputs": [],
   "source": []
  }
 ],
 "metadata": {
  "kernelspec": {
   "display_name": "Javascript (Node.js)",
   "language": "javascript",
   "name": "javascript"
  },
  "language_info": {
   "file_extension": ".js",
   "mimetype": "application/javascript",
   "name": "javascript",
   "version": "8.9.1"
  }
 },
 "nbformat": 4,
 "nbformat_minor": 2
}
