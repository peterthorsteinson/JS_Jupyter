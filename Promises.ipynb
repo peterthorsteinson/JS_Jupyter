{
 "cells": [
  {
   "cell_type": "markdown",
   "metadata": {},
   "source": [
    "# Promises\n",
    "\n",
    "- A Promise object represents eventual completion (or failure) of an asynchronous operation.\n",
    "- A Promise object also provides access to the resulting value of the asynchronous operation."
   ]
  },
  {
   "cell_type": "code",
   "execution_count": 8,
   "metadata": {},
   "outputs": [
    {
     "name": "stdout",
     "output_type": "stream",
     "text": [
      "Promise { <pending> }\n",
      "Promise { <pending> }\n",
      "attempt:  Promise { <pending> }\n",
      "attempt:  Promise { <pending> }\n",
      "attempt:  Promise { <pending> }\n",
      "attempt:  Promise { <pending> }\n",
      "attempt:  Promise { <pending> }\n",
      "attempt:  Promise { <pending> }\n",
      "attempt:  Promise { <pending> }\n",
      "attempt:  Promise { <pending> }\n",
      "attempt:  Promise { <pending> }\n",
      "Yes! Our work here is done!\n",
      "attempt:  Promise { 'Our work here is done!' }\n"
     ]
    }
   ],
   "source": [
    "var promise1 = new Promise(function(resolve, reject) {\n",
    "  setTimeout(resolve, 1000, 'Our work here is done!');\n",
    "});\n",
    "\n",
    "console.log(promise1); // output: Promise { <pending> }\n",
    "\n",
    "promise1.then(function(successMessage) {\n",
    "    console.log(\"Yes! \" + successMessage);\n",
    "});\n",
    "\n",
    "console.log(promise1); // Promise { <pending> }\n",
    "\n",
    "var attempt = 0;\n",
    "var id = setInterval(function() {\n",
    "    attempt++;\n",
    "    if (attempt > 10)\n",
    "        clearInterval(id)\n",
    "    else\n",
    "        console.log('attempt: ', promise1);\n",
    "}, 100)\n"
   ]
  },
  {
   "cell_type": "code",
   "execution_count": null,
   "metadata": {},
   "outputs": [],
   "source": []
  }
 ],
 "metadata": {
  "kernelspec": {
   "display_name": "Javascript (Node.js)",
   "language": "javascript",
   "name": "javascript"
  },
  "language_info": {
   "file_extension": ".js",
   "mimetype": "application/javascript",
   "name": "javascript",
   "version": "8.9.1"
  }
 },
 "nbformat": 4,
 "nbformat_minor": 2
}
