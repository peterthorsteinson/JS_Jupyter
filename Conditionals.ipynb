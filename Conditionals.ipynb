{
 "cells": [
  {
   "cell_type": "markdown",
   "metadata": {},
   "source": [
    "# Conditionals"
   ]
  },
  {
   "cell_type": "code",
   "execution_count": 18,
   "metadata": {},
   "outputs": [
    {
     "name": "stdout",
     "output_type": "stream",
     "text": [
      "Not positive\n",
      "Not positive\n",
      "Positive\n"
     ]
    }
   ],
   "source": [
    "// if statement\n",
    "\n",
    "function testNum1(num) {\n",
    "    if (num > 0) {\n",
    "        return \"Positive\";\n",
    "    }\n",
    "    return \"Not positive\";\n",
    "}\n",
    "\n",
    "console.log(testNum1(-5));\n",
    "console.log(testNum1(0));\n",
    "console.log(testNum1(5));"
   ]
  },
  {
   "cell_type": "code",
   "execution_count": 19,
   "metadata": {},
   "outputs": [
    {
     "name": "stdout",
     "output_type": "stream",
     "text": [
      "Not positive\n",
      "Not positive\n",
      "Positive\n"
     ]
    }
   ],
   "source": [
    "// if-else statement\n",
    "\n",
    "function testNum2(num) {\n",
    "    if (num > 0) {\n",
    "        result = \"Positive\";\n",
    "    } else {\n",
    "        result =  \"Not positive\";\n",
    "    }\n",
    "    return result;\n",
    "}\n",
    "\n",
    "console.log(testNum2(-5));\n",
    "console.log(testNum2(0));\n",
    "console.log(testNum2(5));"
   ]
  },
  {
   "cell_type": "code",
   "execution_count": 20,
   "metadata": {},
   "outputs": [
    {
     "name": "stdout",
     "output_type": "stream",
     "text": [
      "Negative\n",
      "Neutral\n",
      "Positive\n"
     ]
    }
   ],
   "source": [
    "// if-else-f-else statement\n",
    "\n",
    "function testNum3(num) {\n",
    "    if (num > 0) {\n",
    "        result = \"Positive\";\n",
    "    }\n",
    "    else if (num< 0) {\n",
    "        result = \"Negative\";\n",
    "    }\n",
    "    else {\n",
    "        result = \"Neutral\";\n",
    "    }\n",
    "    return result;\n",
    "}\n",
    "\n",
    "console.log(testNum3(-5));\n",
    "console.log(testNum3(0));\n",
    "console.log(testNum3(5));"
   ]
  },
  {
   "cell_type": "code",
   "execution_count": null,
   "metadata": {},
   "outputs": [],
   "source": []
  }
 ],
 "metadata": {
  "kernelspec": {
   "display_name": "Javascript (Node.js)",
   "language": "javascript",
   "name": "javascript"
  },
  "language_info": {
   "file_extension": ".js",
   "mimetype": "application/javascript",
   "name": "javascript",
   "version": "8.9.1"
  }
 },
 "nbformat": 4,
 "nbformat_minor": 2
}
