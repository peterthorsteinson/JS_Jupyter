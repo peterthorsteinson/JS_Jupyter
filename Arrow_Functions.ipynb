{
 "cells": [
  {
   "cell_type": "markdown",
   "metadata": {},
   "source": [
    "# Arrow Functions\n",
    "\n",
    "- Arrow functions provide a short syntax to define a function as an expression\n",
    "- Arrow functions do not have their own this, arguments, super, or new.target."
   ]
  },
  {
   "cell_type": "code",
   "execution_count": 1,
   "metadata": {},
   "outputs": [
    {
     "name": "stdout",
     "output_type": "stream",
     "text": [
      "[ 8, 6, 7, 9 ]\n"
     ]
    }
   ],
   "source": [
    "var materials = [\n",
    "  'Hydrogen',\n",
    "  'Helium',\n",
    "  'Lithium',\n",
    "  'Beryllium'\n",
    "];\n",
    "\n",
    "console.log(materials.map(material => material.length)); // output: Array [8, 6, 7, 9]\n"
   ]
  }
 ],
 "metadata": {
  "kernelspec": {
   "display_name": "Javascript (Node.js)",
   "language": "javascript",
   "name": "javascript"
  },
  "language_info": {
   "file_extension": ".js",
   "mimetype": "application/javascript",
   "name": "javascript",
   "version": "8.9.1"
  }
 },
 "nbformat": 4,
 "nbformat_minor": 2
}
