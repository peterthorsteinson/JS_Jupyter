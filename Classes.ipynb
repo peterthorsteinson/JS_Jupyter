{
 "cells": [
  {
   "cell_type": "code",
   "execution_count": 1,
   "metadata": {},
   "outputs": [
    {
     "name": "stdout",
     "output_type": "stream",
     "text": [
      "(25, 8)\n",
      "(25, 8) in green\n"
     ]
    }
   ],
   "source": [
    "class Point {\n",
    "    constructor(x, y) {\n",
    "        this.x = x;\n",
    "        this.y = y;\n",
    "    }\n",
    "    toString() {\n",
    "        return `(${this.x}, ${this.y})`; }\n",
    "}\n",
    "\n",
    "class ColorPoint extends Point {\n",
    "    constructor(x, y, color) {\n",
    "        super(x, y);\n",
    "        this.color = color;\n",
    "    }\n",
    "    toString() {\n",
    "        return super.toString() + ' in ' + this.color;\n",
    "    }\n",
    "}\n",
    "\n",
    "var p = new Point(25, 8);\n",
    "console.log(p.toString());\n",
    "\n",
    "let cp = new ColorPoint(25, 8, 'green');\n",
    "console.log(cp.toString());"
   ]
  },
  {
   "cell_type": "code",
   "execution_count": 2,
   "metadata": {},
   "outputs": [
    {
     "name": "stdout",
     "output_type": "stream",
     "text": [
      "CheckingAccount.interest:  0\n",
      "CheckingAccount.interest:  0.01\n",
      "100\n",
      "101\n",
      "200\n",
      "100\n"
     ]
    }
   ],
   "source": [
    "// ES6 only supports static methods, getters, and setters, but not static data properties. \n",
    "\n",
    "let CheckingAccount_interest = 0.0;\n",
    "\n",
    "class CheckingAccount {    \n",
    "    static get interest() { return CheckingAccount_interest; }\n",
    "    static set interest(rate) { CheckingAccount_interest = rate; }\n",
    "    constructor(amount) {\n",
    "        this.balance = amount        \n",
    "    }\n",
    "    accrueInterest() {\n",
    "        this.balance += this.balance*CheckingAccount_interest;\n",
    "    }\n",
    "    transact(amount) {\n",
    "        this.balance += amount;\n",
    "    }\n",
    "}\n",
    "\n",
    "console.log(\"CheckingAccount.interest: \", CheckingAccount.interest);\n",
    "CheckingAccount.interest = 0.01;\n",
    "console.log(\"CheckingAccount.interest: \", CheckingAccount.interest);\n",
    "ca = new CheckingAccount(100);\n",
    "console.log(ca.balance);\n",
    "ca.accrueInterest()\n",
    "console.log(ca.balance);\n",
    "ca.transact(99.00);\n",
    "console.log(ca.balance);\n",
    "ca.transact(-100.00);\n",
    "console.log(ca.balance);"
   ]
  },
  {
   "cell_type": "code",
   "execution_count": null,
   "metadata": {},
   "outputs": [],
   "source": []
  },
  {
   "cell_type": "code",
   "execution_count": null,
   "metadata": {},
   "outputs": [],
   "source": []
  }
 ],
 "metadata": {
  "kernelspec": {
   "display_name": "Javascript (Node.js)",
   "language": "javascript",
   "name": "javascript"
  },
  "language_info": {
   "file_extension": ".js",
   "mimetype": "application/javascript",
   "name": "javascript",
   "version": "8.9.1"
  }
 },
 "nbformat": 4,
 "nbformat_minor": 2
}
