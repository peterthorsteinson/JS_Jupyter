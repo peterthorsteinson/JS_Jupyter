{
 "cells": [
  {
   "cell_type": "code",
   "execution_count": 1,
   "metadata": {},
   "outputs": [
    {
     "name": "stdout",
     "output_type": "stream",
     "text": [
      "Sally\n"
     ]
    }
   ],
   "source": [
    "function returnFunction() {\n",
    "  var name = 'Sally';\n",
    "  function innerFunction() {\n",
    "    console.log(name);\n",
    "  }\n",
    "  return innerFunction;\n",
    "}\n",
    "\n",
    "var myFunction = returnFunction();\n",
    "myFunction();"
   ]
  },
  {
   "cell_type": "code",
   "execution_count": 2,
   "metadata": {},
   "outputs": [
    {
     "name": "stdout",
     "output_type": "stream",
     "text": [
      "3\n",
      "10\n",
      "20\n"
     ]
    }
   ],
   "source": [
    "function getAdder() {\n",
    "  var sum = 0;\n",
    "  function add(num) {\n",
    "    sum += num\n",
    "      return sum;\n",
    "  }\n",
    "  return add;\n",
    "}\n",
    "\n",
    "var add = getAdder();\n",
    "console.log(add(3));\n",
    "console.log(add(7));\n",
    "console.log(add(10));"
   ]
  },
  {
   "cell_type": "code",
   "execution_count": 3,
   "metadata": {},
   "outputs": [
    {
     "name": "stdout",
     "output_type": "stream",
     "text": [
      "0\n",
      "2\n",
      "1\n"
     ]
    }
   ],
   "source": [
    "var counter = (function() {\n",
    "  var privateCounter = 0;\n",
    "  function changeBy(val) {\n",
    "    privateCounter += val;\n",
    "  }\n",
    "  return {\n",
    "    increment: function() {\n",
    "      changeBy(1);\n",
    "    },\n",
    "    decrement: function() {\n",
    "      changeBy(-1);\n",
    "    },\n",
    "    value: function() {\n",
    "      return privateCounter;\n",
    "    }\n",
    "  };   \n",
    "})();\n",
    "\n",
    "console.log(counter.value()); // logs 0\n",
    "counter.increment();\n",
    "counter.increment();\n",
    "console.log(counter.value()); // logs 2\n",
    "counter.decrement();\n",
    "console.log(counter.value()); // logs 1"
   ]
  },
  {
   "cell_type": "code",
   "execution_count": null,
   "metadata": {},
   "outputs": [],
   "source": []
  },
  {
   "cell_type": "code",
   "execution_count": null,
   "metadata": {},
   "outputs": [],
   "source": []
  }
 ],
 "metadata": {
  "kernelspec": {
   "display_name": "Javascript (Node.js)",
   "language": "javascript",
   "name": "javascript"
  },
  "language_info": {
   "file_extension": ".js",
   "mimetype": "application/javascript",
   "name": "javascript",
   "version": "8.9.1"
  }
 },
 "nbformat": 4,
 "nbformat_minor": 2
}
