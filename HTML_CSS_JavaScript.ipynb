{
 "cells": [
  {
   "cell_type": "code",
   "execution_count": 4,
   "metadata": {},
   "outputs": [
    {
     "data": {
      "text/html": [
       "<svg width='100' height='100'><rect x='10' y='10' width='80' height='80' style='fill: red;'></rect></svg>"
      ]
     },
     "execution_count": 4,
     "metadata": {},
     "output_type": "execute_result"
    }
   ],
   "source": [
    "var svg = \"<svg width='100' height='100'><rect x='10' y='10' width='80' height='80' style='fill: red;'></rect></svg>\";\n",
    "$$html$$ = svg"
   ]
  },
  {
   "cell_type": "code",
   "execution_count": 5,
   "metadata": {},
   "outputs": [
    {
     "data": {
      "text/html": [
       "<html>\n",
       "<head>\n",
       "<script src=\"https://ajax.googleapis.com/ajax/libs/jquery/3.3.1/jquery.min.js\"></script>\n",
       "<script>\n",
       "$(document).ready(function(){\n",
       "    $(\"#hide\").click(function(){\n",
       "        $(\"p\").hide();\n",
       "    });\n",
       "    $(\"#show\").click(function(){\n",
       "        $(\"p\").show();\n",
       "    });\n",
       "});\n",
       "</script>\n",
       "</head>\n",
       "<body>\n",
       "<p style=\"color:blue;\">Click the \"Hide\" and \"Show\" buttons to see what happens to this text.</p>\n",
       "<button id=\"hide\">Hide</button>\n",
       "<button id=\"show\">Show</button>\n",
       "</body>\n",
       "</html>"
      ]
     },
     "execution_count": 5,
     "metadata": {},
     "output_type": "execute_result"
    }
   ],
   "source": [
    "var html = `<html>\n",
    "<head>\n",
    "<script src=\"https://ajax.googleapis.com/ajax/libs/jquery/3.3.1/jquery.min.js\"></script>\n",
    "<script>\n",
    "$(document).ready(function(){\n",
    "    $(\"#hide\").click(function(){\n",
    "        $(\"p\").hide();\n",
    "    });\n",
    "    $(\"#show\").click(function(){\n",
    "        $(\"p\").show();\n",
    "    });\n",
    "});\n",
    "</script>\n",
    "</head>\n",
    "<body>\n",
    "<p style=\"color:blue;\">Click the \"Hide\" and \"Show\" buttons to see what happens to this text.</p>\n",
    "<button id=\"hide\">Hide</button>\n",
    "<button id=\"show\">Show</button>\n",
    "</body>\n",
    "</html>`\n",
    "\n",
    "$$html$$ = html"
   ]
  },
  {
   "cell_type": "code",
   "execution_count": 7,
   "metadata": {},
   "outputs": [
    {
     "data": {
      "text/html": [
       "\n",
       "<html>\n",
       "<head>\n",
       "    <meta charset=\"utf-8\">\n",
       "    <script src=\"http://d3js.org/d3.v3.min.js\" charset=\"utf-8\"></script>\n",
       "</head>\n",
       "<body>\n",
       "    <p style=\"color:blue;\">Try mousing over circle:</p>\n",
       "    <div id=\"div1\"></div>\n",
       "    <script>\n",
       "        var div1 = d3.select(\"#div1\")\n",
       "            .append(\"svg\")\n",
       "            .attr(\"width\", 100)\n",
       "            .attr(\"height\", 100);    \n",
       "        div1.append(\"circle\")\n",
       "            .style(\"stroke\", \"blue\")\n",
       "            .style(\"fill\", \"green\")\n",
       "            .attr(\"r\", 40)\n",
       "            .attr(\"cx\", 50)\n",
       "            .attr(\"cy\", 50)\n",
       "            .on(\"mouseover\", function(){d3.select(this).style(\"fill\", \"yellow\");})\n",
       "            .on(\"mouseout\", function(){d3.select(this).style(\"fill\", \"green\");});\n",
       "        div1.append(\"line\")\n",
       "            .style(\"stroke\", \"red\")\n",
       "            .attr(\"x1\", 0)\n",
       "            .attr(\"y1\", 0)\n",
       "            .attr(\"x2\", 100)\n",
       "            .attr(\"y2\", 100);\n",
       "    </script>\n",
       "</body>\n",
       "</html>\n"
      ]
     },
     "execution_count": 7,
     "metadata": {},
     "output_type": "execute_result"
    }
   ],
   "source": [
    "var html = `\n",
    "<html>\n",
    "<head>\n",
    "    <meta charset=\"utf-8\">\n",
    "    <script src=\"http://d3js.org/d3.v3.min.js\" charset=\"utf-8\"></script>\n",
    "</head>\n",
    "<body>\n",
    "    <p style=\"color:blue;\">Try mousing over circle:</p>\n",
    "    <div id=\"div1\"></div>\n",
    "    <script>\n",
    "        var div1 = d3.select(\"#div1\")\n",
    "            .append(\"svg\")\n",
    "            .attr(\"width\", 100)\n",
    "            .attr(\"height\", 100);    \n",
    "        div1.append(\"circle\")\n",
    "            .style(\"stroke\", \"blue\")\n",
    "            .style(\"fill\", \"green\")\n",
    "            .attr(\"r\", 40)\n",
    "            .attr(\"cx\", 50)\n",
    "            .attr(\"cy\", 50)\n",
    "            .on(\"mouseover\", function(){d3.select(this).style(\"fill\", \"yellow\");})\n",
    "            .on(\"mouseout\", function(){d3.select(this).style(\"fill\", \"green\");});\n",
    "        div1.append(\"line\")\n",
    "            .style(\"stroke\", \"red\")\n",
    "            .attr(\"x1\", 0)\n",
    "            .attr(\"y1\", 0)\n",
    "            .attr(\"x2\", 100)\n",
    "            .attr(\"y2\", 100);\n",
    "    </script>\n",
    "</body>\n",
    "</html>\n",
    "`;\n",
    "\n",
    "$$html$$ = html"
   ]
  },
  {
   "cell_type": "code",
   "execution_count": null,
   "metadata": {},
   "outputs": [],
   "source": []
  },
  {
   "cell_type": "code",
   "execution_count": null,
   "metadata": {},
   "outputs": [],
   "source": []
  }
 ],
 "metadata": {
  "kernelspec": {
   "display_name": "Javascript (Node.js)",
   "language": "javascript",
   "name": "javascript"
  },
  "language_info": {
   "file_extension": ".js",
   "mimetype": "application/javascript",
   "name": "javascript",
   "version": "8.9.1"
  }
 },
 "nbformat": 4,
 "nbformat_minor": 2
}
