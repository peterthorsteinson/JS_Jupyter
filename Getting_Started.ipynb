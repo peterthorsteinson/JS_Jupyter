{
 "cells": [
  {
   "cell_type": "code",
   "execution_count": 8,
   "metadata": {},
   "outputs": [
    {
     "name": "stdout",
     "output_type": "stream",
     "text": [
      "Object\n",
      "Function\n",
      "Array\n",
      "Number\n",
      "parseFloat\n",
      "parseInt\n",
      "Infinity\n",
      "NaN\n",
      "undefined\n",
      "Boolean\n",
      "String\n",
      "Symbol\n",
      "Date\n",
      "Promise\n",
      "RegExp\n",
      "Error\n",
      "EvalError\n",
      "RangeError\n",
      "ReferenceError\n",
      "SyntaxError\n",
      "TypeError\n",
      "URIError\n",
      "JSON\n",
      "Math\n",
      "Intl\n",
      "ArrayBuffer\n",
      "Uint8Array\n",
      "Int8Array\n",
      "Uint16Array\n",
      "Int16Array\n",
      "Uint32Array\n",
      "Int32Array\n",
      "Float32Array\n",
      "Float64Array\n",
      "Uint8ClampedArray\n",
      "DataView\n",
      "Map\n",
      "Set\n",
      "WeakMap\n",
      "WeakSet\n",
      "Proxy\n",
      "Reflect\n",
      "decodeURI\n",
      "decodeURIComponent\n",
      "encodeURI\n",
      "encodeURIComponent\n",
      "escape\n",
      "unescape\n",
      "eval\n",
      "isFinite\n",
      "isNaN\n",
      "WebAssembly\n",
      "DTRACE_NET_SERVER_CONNECTION\n",
      "DTRACE_NET_STREAM_END\n",
      "DTRACE_HTTP_SERVER_REQUEST\n",
      "DTRACE_HTTP_SERVER_RESPONSE\n",
      "DTRACE_HTTP_CLIENT_REQUEST\n",
      "DTRACE_HTTP_CLIENT_RESPONSE\n",
      "COUNTER_NET_SERVER_CONNECTION\n",
      "COUNTER_NET_SERVER_CONNECTION_CLOSE\n",
      "COUNTER_HTTP_SERVER_REQUEST\n",
      "COUNTER_HTTP_SERVER_RESPONSE\n",
      "COUNTER_HTTP_CLIENT_REQUEST\n",
      "COUNTER_HTTP_CLIENT_RESPONSE\n",
      "global\n",
      "process\n",
      "GLOBAL\n",
      "root\n",
      "Buffer\n",
      "clearImmediate\n",
      "clearInterval\n",
      "clearTimeout\n",
      "setImmediate\n",
      "setInterval\n",
      "setTimeout\n",
      "assert\n",
      "async_hooks\n",
      "buffer\n",
      "child_process\n",
      "cluster\n",
      "crypto\n",
      "dgram\n",
      "dns\n",
      "domain\n",
      "events\n",
      "fs\n",
      "http\n",
      "https\n",
      "net\n",
      "os\n",
      "path\n",
      "perf_hooks\n",
      "punycode\n",
      "querystring\n",
      "readline\n",
      "repl\n",
      "stream\n",
      "string_decoder\n",
      "tls\n",
      "tty\n",
      "url\n",
      "util\n",
      "v8\n",
      "vm\n",
      "zlib\n",
      "http2\n",
      "__filename\n",
      "exports\n",
      "module\n",
      "__dirname\n",
      "require\n",
      "$$mimer$$\n",
      "$$done$$\n",
      "$$defaultMimer$$\n",
      "golbals\n",
      "greetMe\n",
      "früh\n",
      "myfunc\n",
      "console\n",
      "$$\n",
      "$$mime$$\n",
      "$$html$$\n",
      "$$svg$$\n",
      "$$png$$\n",
      "$$jpeg$$\n",
      "$$async$$\n"
     ]
    }
   ],
   "source": [
    "(function () {\n",
    "    golbals = Object.getOwnPropertyNames( global );\n",
    "    for( var i = 0; i < golbals.length; ++i ) {\n",
    "        console.log( golbals[i] );\n",
    "    }\n",
    "})();"
   ]
  },
  {
   "cell_type": "code",
   "execution_count": 9,
   "metadata": {},
   "outputs": [
    {
     "name": "stdout",
     "output_type": "stream",
     "text": [
      "Hellow World!\n"
     ]
    }
   ],
   "source": [
    "console.log('Hellow World!');"
   ]
  },
  {
   "cell_type": "code",
   "execution_count": 10,
   "metadata": {},
   "outputs": [
    {
     "name": "stdout",
     "output_type": "stream",
     "text": [
      "8\n"
     ]
    }
   ],
   "source": [
    "console.log(eval('3 + 5'));"
   ]
  },
  {
   "cell_type": "code",
   "execution_count": 11,
   "metadata": {},
   "outputs": [
    {
     "name": "stdout",
     "output_type": "stream",
     "text": [
      "Hello Sally\n"
     ]
    }
   ],
   "source": [
    "function greetMe(yourName) {\n",
    "  console.log('Hello ' + yourName);\n",
    "}\n",
    "greetMe('Sally');"
   ]
  },
  {
   "cell_type": "code",
   "execution_count": 12,
   "metadata": {},
   "outputs": [
    {
     "name": "stdout",
     "output_type": "stream",
     "text": [
      "Hello World\n"
     ]
    }
   ],
   "source": [
    "(function(){\n",
    "  \"use strict\";\n",
    "  function greetMe(yourName) {\n",
    "    console.log('Hello ' + yourName);\n",
    "  }  \n",
    "  greetMe('World');\n",
    "})();"
   ]
  },
  {
   "cell_type": "code",
   "execution_count": 13,
   "metadata": {},
   "outputs": [
    {
     "name": "stdout",
     "output_type": "stream",
     "text": [
      "foobar\n",
      "42\n"
     ]
    }
   ],
   "source": [
    "// JavaScript is case-sensitive and uses the Unicode character set. \n",
    "var früh = \"foobar\";\n",
    "console.log(früh);\n",
    "\n",
    "function myfunc() {\n",
    "    let x = 42;\n",
    "    console.log(x)\n",
    "}\n",
    "myfunc()"
   ]
  },
  {
   "cell_type": "code",
   "execution_count": 13,
   "metadata": {},
   "outputs": [
    {
     "name": "stdout",
     "output_type": "stream",
     "text": [
      "number\n",
      "number\n",
      "boolean\n",
      "boolean\n",
      "string\n",
      "string\n",
      "string\n",
      "string\n",
      "object\n",
      "object\n",
      "object\n",
      "object\n",
      "function\n"
     ]
    }
   ],
   "source": [
    "console.log(typeof 42)\n",
    "console.log(typeof 3.141592)\n",
    "console.log(typeof true)\n",
    "console.log(typeof false)\n",
    "console.log(typeof 'Hello World!')\n",
    "console.log(typeof 'x')\n",
    "console.log(typeof \"y\")\n",
    "console.log(typeof `z`)\n",
    "console.log(typeof {})\n",
    "console.log(typeof [])\n",
    "console.log(typeof /^\\S+@\\S+$/)\n",
    "console.log(typeof new Object())\n",
    "console.log(typeof function () {})"
   ]
  },
  {
   "cell_type": "code",
   "execution_count": null,
   "metadata": {},
   "outputs": [],
   "source": []
  }
 ],
 "metadata": {
  "kernelspec": {
   "display_name": "Javascript (Node.js)",
   "language": "javascript",
   "name": "javascript"
  },
  "language_info": {
   "file_extension": ".js",
   "mimetype": "application/javascript",
   "name": "javascript",
   "version": "8.9.1"
  }
 },
 "nbformat": 4,
 "nbformat_minor": 2
}
