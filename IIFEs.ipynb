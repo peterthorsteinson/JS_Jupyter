{
 "cells": [
  {
   "cell_type": "markdown",
   "metadata": {},
   "source": [
    "# IIFEs\n",
    "\n",
    "- IIFE (Immediately Invoked Function Expression) is a JavaScript function that runs as soon as it is defined."
   ]
  },
  {
   "cell_type": "code",
   "execution_count": 1,
   "metadata": {},
   "outputs": [],
   "source": [
    "(function () { \n",
    "    var name = \"Sally\";\n",
    "})();\n",
    "\n",
    "// Variable name is not accessible outside scope\n",
    "//name // throws \"Uncaught ReferenceError: name is not defined\""
   ]
  },
  {
   "cell_type": "code",
   "execution_count": null,
   "metadata": {},
   "outputs": [],
   "source": []
  }
 ],
 "metadata": {
  "kernelspec": {
   "display_name": "Javascript (Node.js)",
   "language": "javascript",
   "name": "javascript"
  },
  "language_info": {
   "file_extension": ".js",
   "mimetype": "application/javascript",
   "name": "javascript",
   "version": "8.9.1"
  }
 },
 "nbformat": 4,
 "nbformat_minor": 2
}
