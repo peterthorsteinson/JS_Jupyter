{
 "cells": [
  {
   "cell_type": "markdown",
   "metadata": {},
   "source": [
    "# MathJS Examples\n",
    "\n",
    "See: [mathjs.org](http://mathjs.org)\n",
    "\n",
    "```\n",
    "cd into ...\\ijavascript\n",
    "npm install mathjs\n",
    "```"
   ]
  },
  {
   "cell_type": "code",
   "execution_count": 2,
   "metadata": {},
   "outputs": [
    {
     "name": "stdout",
     "output_type": "stream",
     "text": [
      "create and manipulate complex numbers\n",
      "2 + 3i\n",
      "2\n",
      "3\n",
      "2 + 3i\n",
      "5 + 3i\n",
      "3 - 7i\n",
      "\n",
      "perform operations\n",
      "8 - 4i\n",
      "36 - 26i\n",
      "-9.6541254768548 + 2.8416922956064i\n",
      "2\n",
      "2i\n",
      "create complex numbers with polar coordinates\n",
      "1 + i\n",
      "5 0.9272952180016122\n",
      "\n",
      "comparision and sorting operations\n",
      "equal false\n",
      "values: [5 + 3i, 3 - 7i, 1 + i]\n",
      "sorted: [1 + i, 3 - 7i, 5 + 3i]\n"
     ]
    }
   ],
   "source": [
    "// load math.js (using node.js)\n",
    "var math = require('/Users/peterthor/AppData/Roaming/npm/node_modules/ijavascript/node_modules/mathjs/dist/math.js');\n",
    "\n",
    "// create a complex number with a numeric real and complex part\n",
    "console.log('create and manipulate complex numbers');\n",
    "var a = math.complex(2, 3);\n",
    "print(a);                       // 2 + 3i\n",
    "\n",
    "// read the real and complex parts of the complex number\n",
    "print(a.re);                    // 2\n",
    "print(a.im);                    // 3\n",
    "\n",
    "// clone a complex value\n",
    "var clone = a.clone();\n",
    "print(clone);                   // 2 + 3i\n",
    "\n",
    "// adjust the complex value\n",
    "a.re = 5;\n",
    "print(a);                       // 5 + 3i\n",
    "\n",
    "// create a complex number by providing a string with real and complex parts\n",
    "var b = math.complex('3-7i');\n",
    "print(b);                       // 3 - 7i\n",
    "console.log();\n",
    "\n",
    "// perform operations with complex numbers\n",
    "console.log('perform operations');\n",
    "print(math.add(a, b));          // 8 - 4i\n",
    "print(math.multiply(a, b));     // 36 - 26i\n",
    "print(math.sin(a));             // -9.6541254768548 + 2.8416922956064i\n",
    "\n",
    "// some operations will return a complex number depending on the arguments\n",
    "print(math.sqrt(4));           // 2\n",
    "print(math.sqrt(-4));          // 2i\n",
    "\n",
    "// create a complex number from polar coordinates\n",
    "console.log('create complex numbers with polar coordinates');\n",
    "var c = math.complex({r: math.sqrt(2), phi: math.pi / 4});\n",
    "print(c);                      // 1 + i\n",
    "\n",
    "// get polar coordinates of a complex number\n",
    "var d = math.complex(3, 4);\n",
    "console.log(d.abs(), d.arg());      // radius = 5, phi = 0.9272952180016122\n",
    "\n",
    "// comparision operations\n",
    "// note that there is no mathematical ordering defined for complex numbers\n",
    "// we can only check equality. To sort a list with complex numbers,\n",
    "// the natural sorting can be used\n",
    "console.log('\\ncomparision and sorting operations');\n",
    "console.log('equal', math.equal(a, b)); // returns false\n",
    "var values = [a, b, c];\n",
    "console.log('values:', math.format(values, 14)); // [5 + 3i, 3 - 7i, 1 + i]\n",
    "math.sort(values, 'natural');\n",
    "console.log('sorted:', math.format(values, 14)); // [1 + i, 3 - 7i, 5 + 3i]\n",
    "\n",
    "/**\n",
    " * Helper function to output a value in the console. Value will be formatted.\n",
    " * @param {*} value\n",
    " */\n",
    "function print (value) {\n",
    "  var precision = 14;\n",
    "  console.log(math.format(value, precision));\n",
    "}\n"
   ]
  },
  {
   "cell_type": "code",
   "execution_count": null,
   "metadata": {},
   "outputs": [],
   "source": []
  },
  {
   "cell_type": "code",
   "execution_count": null,
   "metadata": {},
   "outputs": [],
   "source": []
  }
 ],
 "metadata": {
  "kernelspec": {
   "display_name": "Javascript (Node.js)",
   "language": "javascript",
   "name": "javascript"
  },
  "language_info": {
   "file_extension": ".js",
   "mimetype": "application/javascript",
   "name": "javascript",
   "version": "8.9.1"
  }
 },
 "nbformat": 4,
 "nbformat_minor": 2
}
