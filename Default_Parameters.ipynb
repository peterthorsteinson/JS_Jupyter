{
 "cells": [
  {
   "cell_type": "markdown",
   "metadata": {},
   "source": [
    "# Default Parameters\n",
    "\n",
    "```\n",
    "function [name]([param1[ = defaultValue1 ][, ..., paramN[ = defaultValueN ]]]) {\n",
    "   statements\n",
    "}\n",
    "```"
   ]
  },
  {
   "cell_type": "code",
   "execution_count": 4,
   "metadata": {},
   "outputs": [
    {
     "name": "stdout",
     "output_type": "stream",
     "text": [
      "10\n",
      "10\n",
      "5\n",
      "NaN\n"
     ]
    }
   ],
   "source": [
    "function multiply(a, b = 1) {\n",
    "  return a * b;\n",
    "}\n",
    "\n",
    "console.log(multiply(5, 2, 10)); // output: 10\n",
    "console.log(multiply(5, 2));     // output: 10\n",
    "console.log(multiply(5));        // output: 5\n",
    "console.log(multiply());         // output: NaN"
   ]
  },
  {
   "cell_type": "code",
   "execution_count": null,
   "metadata": {},
   "outputs": [],
   "source": []
  }
 ],
 "metadata": {
  "kernelspec": {
   "display_name": "Javascript (Node.js)",
   "language": "javascript",
   "name": "javascript"
  },
  "language_info": {
   "file_extension": ".js",
   "mimetype": "application/javascript",
   "name": "javascript",
   "version": "8.9.1"
  }
 },
 "nbformat": 4,
 "nbformat_minor": 2
}
