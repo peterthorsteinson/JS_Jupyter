{
 "cells": [
  {
   "cell_type": "markdown",
   "metadata": {},
   "source": [
    "# Arrays\n",
    "\n",
    "- Array is global object used to construct array objects\n",
    "- Array objects are ordered collection objects"
   ]
  },
  {
   "cell_type": "code",
   "execution_count": 12,
   "metadata": {},
   "outputs": [
    {
     "name": "stdout",
     "output_type": "stream",
     "text": [
      "[ 'Apple', 'Orange' ]\n"
     ]
    }
   ],
   "source": [
    "var fruitList = ['Apple', 'Orange'];\n",
    "console.log(fruitList);"
   ]
  },
  {
   "cell_type": "code",
   "execution_count": 13,
   "metadata": {},
   "outputs": [
    {
     "name": "stdout",
     "output_type": "stream",
     "text": [
      "2\n",
      "Apple\n",
      "Orange\n",
      "undefined\n",
      "[ 'Apple', 'Orange' ]\n"
     ]
    }
   ],
   "source": [
    "console.log(fruitList.length);\n",
    "console.log(fruitList[0]);\n",
    "console.log(fruitList[1]);\n",
    "console.log(fruitList[2]);\n",
    "var lastFruit = fruitList[fruitList.length - 1];\n",
    "console.log(fruitList)"
   ]
  },
  {
   "cell_type": "code",
   "execution_count": 14,
   "metadata": {},
   "outputs": [
    {
     "name": "stdout",
     "output_type": "stream",
     "text": [
      "0 'Apple'\n",
      "1 'Orange'\n"
     ]
    }
   ],
   "source": [
    "fruitList.forEach(function(item, index, array) {\n",
    "  console.log(index, item);\n",
    "});"
   ]
  },
  {
   "cell_type": "code",
   "execution_count": 15,
   "metadata": {},
   "outputs": [
    {
     "name": "stdout",
     "output_type": "stream",
     "text": [
      "3\n",
      "[ 'Apple', 'Orange', 'Peach' ]\n"
     ]
    }
   ],
   "source": [
    "var newLength = fruitList.push('Peach');\n",
    "console.log(newLength);\n",
    "console.log(fruitList);"
   ]
  },
  {
   "cell_type": "code",
   "execution_count": 16,
   "metadata": {},
   "outputs": [
    {
     "name": "stdout",
     "output_type": "stream",
     "text": [
      "Peach\n",
      "2\n",
      "[ 'Apple', 'Orange' ]\n"
     ]
    }
   ],
   "source": [
    "var lastFruit = fruitList.pop();\n",
    "console.log(lastFruit);\n",
    "console.log(fruitList.length);\n",
    "console.log(fruitList);"
   ]
  },
  {
   "cell_type": "code",
   "execution_count": 17,
   "metadata": {},
   "outputs": [
    {
     "name": "stdout",
     "output_type": "stream",
     "text": [
      "Apple\n",
      "1\n",
      "[ 'Orange' ]\n"
     ]
    }
   ],
   "source": [
    "var firstFruit = fruitList.shift();\n",
    "console.log(firstFruit);\n",
    "console.log(fruitList.length);\n",
    "console.log(fruitList);"
   ]
  },
  {
   "cell_type": "code",
   "execution_count": 18,
   "metadata": {},
   "outputs": [
    {
     "name": "stdout",
     "output_type": "stream",
     "text": [
      "2\n",
      "[ 'Mango', 'Orange' ]\n"
     ]
    }
   ],
   "source": [
    "var newLength = fruitList.unshift(\"Mango\")\n",
    "console.log(newLength);\n",
    "console.log(fruitList);"
   ]
  },
  {
   "cell_type": "code",
   "execution_count": 19,
   "metadata": {},
   "outputs": [
    {
     "name": "stdout",
     "output_type": "stream",
     "text": [
      "1\n",
      "-1\n",
      "[ 'Mango', 'Orange' ]\n"
     ]
    }
   ],
   "source": [
    "var positionOrange = fruitList.indexOf('Orange');\n",
    "console.log(positionOrange)\n",
    "var positionBanana = fruitList.indexOf('Banana');\n",
    "console.log(positionBanana)\n",
    "console.log(fruitList);"
   ]
  },
  {
   "cell_type": "code",
   "execution_count": 20,
   "metadata": {},
   "outputs": [
    {
     "name": "stdout",
     "output_type": "stream",
     "text": [
      "[ 'Orange' ]\n",
      "[ 'Mango' ]\n",
      "[ 'Orange' ] [ 'Mango' ]\n"
     ]
    }
   ],
   "source": [
    "var removedItem = fruitList.splice(pos, 1);\n",
    "console.log(removedItem);\n",
    "console.log(fruitList);\n",
    "console.log(removedItem, fruitList);"
   ]
  },
  {
   "cell_type": "code",
   "execution_count": 21,
   "metadata": {},
   "outputs": [
    {
     "name": "stdout",
     "output_type": "stream",
     "text": [
      "[ 'Mango' ]\n"
     ]
    }
   ],
   "source": [
    "var fruitListShallowCopy = fruitList.slice()\n",
    "console.log(fruitListShallowCopy)"
   ]
  },
  {
   "cell_type": "code",
   "execution_count": 22,
   "metadata": {},
   "outputs": [
    {
     "name": "stdout",
     "output_type": "stream",
     "text": [
      "[ 'Potatoes', 'Turnips', 'Parsnips', 'Carrots' ]\n",
      "[ 'Potatoes', 'Carrots' ]\n",
      "[ 'Turnips', 'Parsnips' ]\n"
     ]
    }
   ],
   "source": [
    "var vegetableList = ['Potatoes', 'Turnips', 'Parsnips', 'Carrots'];\n",
    "console.log(vegetableList);\n",
    "var pos = 1, n = 2;\n",
    "var removedvegetables = vegetableList.splice(pos, n);\n",
    "console.log(vegetableList);\n",
    "console.log(removedvegetables);"
   ]
  },
  {
   "cell_type": "code",
   "execution_count": null,
   "metadata": {},
   "outputs": [],
   "source": []
  }
 ],
 "metadata": {
  "kernelspec": {
   "display_name": "Javascript (Node.js)",
   "language": "javascript",
   "name": "javascript"
  },
  "language_info": {
   "file_extension": ".js",
   "mimetype": "application/javascript",
   "name": "javascript",
   "version": "8.9.1"
  }
 },
 "nbformat": 4,
 "nbformat_minor": 2
}
